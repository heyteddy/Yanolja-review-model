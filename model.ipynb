{
 "cells": [
  {
   "cell_type": "code",
   "execution_count": 1,
   "metadata": {},
   "outputs": [
    {
     "name": "stdout",
     "output_type": "stream",
     "text": [
      "API Key: sk-proj-xyUeL6LCSZDpdAaJmExbT3BlbkFJo8tanm2wx5ZEnHavJC53\n"
     ]
    }
   ],
   "source": [
    "import os\n",
    "from openai import OpenAI\n",
    "\n",
    "# 환경 변수에서 API 키 가져오기\n",
    "OPENAI_API_KEY = os.environ.get('OPENAI_API_KEY')\n",
    "\n",
    "if OPENAI_API_KEY:\n",
    "    print(f\"API Key: {OPENAI_API_KEY}\")\n",
    "else:\n",
    "    print(\"API Key가 설정되지 않았습니다.\")"
   ]
  },
  {
   "cell_type": "code",
   "execution_count": 2,
   "metadata": {},
   "outputs": [
    {
     "name": "stdout",
     "output_type": "stream",
     "text": [
      "Hello! How can I assist you today?\n"
     ]
    }
   ],
   "source": [
    "import os\n",
    "from openai import OpenAI\n",
    "\n",
    "# 환경 변수에서 API 키 가져오기\n",
    "OPENAI_API_KEY = os.environ.get('OPENAI_API_KEY')\n",
    "\n",
    "client = OpenAI(api_key=OPENAI_API_KEY)\n",
    "\n",
    "completion = client.chat.completions.create(\n",
    "    model='gpt-3.5-turbo-0125',\n",
    "    messages=[{'role': 'user', 'content': 'hi'}],\n",
    "    temperature=0.0\n",
    ")\n",
    "\n",
    "print(completion.choices[0].message.content)"
   ]
  },
  {
   "cell_type": "markdown",
   "metadata": {},
   "source": [
    "## 데이터 전처리 함수\n",
    "* 크롤링한 데이터를 전처리"
   ]
  },
  {
   "cell_type": "code",
   "execution_count": 3,
   "metadata": {},
   "outputs": [
    {
     "data": {
      "text/plain": [
       "[{'review': '깨끗하고 너무 좋았어요', 'stars': 5, 'date': '22시간 전'},\n",
       " {'review': '위치도 아주좋고 숙소도 깨끗하고 좋아요~', 'stars': 5, 'date': '2일 전'},\n",
       " {'review': '잘쉬고놀다갑니다  감사', 'stars': 5, 'date': '6일 전'},\n",
       " {'review': '숙소는 말할 필요 없을것 같고 주변 인사동과 조계사 위로 경복궁을 도보로 품은 입지가 최고인 곳',\n",
       "  'stars': 5,\n",
       "  'date': '2024.05.23'},\n",
       " {'review': '3번째 방문인데 좋습니다! 주변관광지와 교통도 좋습니다.',\n",
       "  'stars': 5,\n",
       "  'date': '2024.05.23'}]"
      ]
     },
     "execution_count": 3,
     "metadata": {},
     "output_type": "execute_result"
    }
   ],
   "source": [
    "import json\n",
    "\n",
    "with open('./res/reviews.json', 'r', encoding='utf-8') as f:\n",
    "    review_list = json.load(f)\n",
    "\n",
    "review_list[:5]"
   ]
  },
  {
   "cell_type": "markdown",
   "metadata": {},
   "source": [
    "Good Review, Bad Review\n",
    "* Good Review = 5 Stars\n",
    "* Bad Review = less than 4 Stars"
   ]
  },
  {
   "cell_type": "code",
   "execution_count": 4,
   "metadata": {},
   "outputs": [
    {
     "data": {
      "text/plain": [
       "(177, 43)"
      ]
     },
     "execution_count": 4,
     "metadata": {},
     "output_type": "execute_result"
    }
   ],
   "source": [
    "good, bad = 0, 0\n",
    "\n",
    "for r in review_list:\n",
    "    if r['stars'] == 5:\n",
    "        good += 1\n",
    "    else:\n",
    "         bad += 1\n",
    "\n",
    "good, bad"
   ]
  },
  {
   "cell_type": "code",
   "execution_count": 5,
   "metadata": {},
   "outputs": [
    {
     "data": {
      "text/plain": [
       "['[REVIEW_START]인사동, 북촌동, 종각 등등 근처에 갈곳두 많구\\r\\n숙소두 깨끗하구 너무 좋아요\\r\\n엘베를 2번 타야하는게 살짝 번거롭지만\\r\\n그거빼구 다 좋아요[REVIEW_END]',\n",
       " '[REVIEW_START]근처 볼거리 놀거리가 가까이 있어 편했으나 \\n조계사 고층뷰는 의미 없이 배정해 주었으며\\n객실 내 청결상태가 별로였음 욕조 머리카락, 수건의 먼지등\\n재방문 의사 없음[REVIEW_END]',\n",
       " '[REVIEW_START]2월21일(수) 오전7시경, 카운터에 계시던 남자 직원 불친절\\n방음 최악[REVIEW_END]']"
      ]
     },
     "execution_count": 5,
     "metadata": {},
     "output_type": "execute_result"
    }
   ],
   "source": [
    "reviews_good, reviews_bad = [], []\n",
    "\n",
    "for r in review_list:\n",
    "    if r['stars'] == 5: # special token 'REVIEW_START', 'REVIEW_END'\n",
    "        reviews_good.append('[REVIEW_START]' + r['review'] + '[REVIEW_END]')\n",
    "    else:\n",
    "        reviews_bad.append('[REVIEW_START]' + r['review'] + '[REVIEW_END]')\n",
    "\n",
    "reviews_bad[:3]"
   ]
  },
  {
   "cell_type": "code",
   "execution_count": 6,
   "metadata": {},
   "outputs": [
    {
     "data": {
      "text/plain": [
       "'[REVIEW_START]인사동, 북촌동, 종각 등등 근처에 갈곳두 많구\\r\\n숙소두 깨끗하구 너무 좋아요\\r\\n엘베를 2번 타야하는게 살짝 번거롭지만\\r\\n그거빼구 다 좋아요[REVIEW_END]\\n[REVIEW_START]근처 볼거리 놀거리가 가까이 있어 편했으나 \\n조계사 고층뷰는 의미 없이 배정해 주었으며\\n객실 내 청결상태가 별로였음 욕조 머리카락, 수건의 먼지등\\n재방문 의사 없음[REVIEW_END]\\n[REVIEW_START]2월21일(수) 오전7시경, 카운터에 계시던 남자 직원 불친절\\n방음 최악[REVIEW_END]\\n[REVIEW_START]이번방은 수압이좀 약했고\\n여러번 이용했지만 이런적없었는데\\n침구에 머리카락이있었고\\n수건에서 냄새가났어요ㅠ\\n개선해주셔야할것같아요\\n전화하려다가 너무 피곤하고 힘들어서 그냥쉬다왔습니다[REVIEW_END]\\n[REVIEW_START]근처에 놀 수 있는 곳이 많아서 좋았어요[REVIEW_END]\\n[REVIEW_START]방음이 아예 안됩니다. 기껏 비싼돈주고 호텔왔는데 같은 층에 단체손님들인지 뭔지 새벽 5시까지 떠들고 쿵쿵치고 소리지르고 난리를 쳐서 한숨도 못잤습니다. 직원분들은 친절하셨지만 이렇게 하나도 방음이안되는 호텔은 처음이네요. 돈이 너무너무아깝고 화가납니다. 직원분들의 잘못은 아니지만, 단체손님이 들어와있으면 그 사이에 방을 배정하지않고 다른 층으로해주는 유도리가있었으면 참 좋았겠네요. 유감입니다. 두번다시 이 브랜드 호텔 이용안합니다.[REVIEW_END]\\n[REVIEW_START]서비스 : 친절합니다. 리셉션에 요구사항도 빠르게 들어주셨어요. 체크인 체크아웃 또한 무리없이 빠르게 진행됩니다. \\n숙소 청결도 : 바닥이나 욕조에 머리카락이 너무 많습니다. 어메니티도 아쉽습니다. 바디로션만 따로 있다거나 샤워스펀지가 없습니다. \\n시설 : 방이 좁긴하지만 동선에 따른 구조는 괜찮습니다. 조계사뷰는 그닥 특별하지 않습니다. 같은건물에 음식점이나 편의점 등 상점들이 가까이 있어 편리합니다. 자체 호텔안에 비지니스룸이라든가 짐보관도 용이해서 매우 좋습니다. \\n위치접근성 : 지하철역이나 버스정류장 바로 앞입니다. 바로미터 관광지입니다. \\n\\n*방음이 너무너무 안좋습니다. 이렇게 방음이 안되는 호텔은 손에 꼽는거 같네요. 바깥 문쪽도 위층 옆방 커텐치는 소리까지 다들립니다. 신경쓰여서 편히 쉬러 갔다가 더 피곤해졌네요. 다른건 다 좋고 단점도 이해해도 방음이 안좋은건 4성급은 아닌거같네요. \\n\\n나인트리 프리미어 호텔 인사동 중독지수 90%[REVIEW_END]\\n[REVIEW_START]구조가 다른 호텔에 비해 조금 좁은 느낌이 들었고요. 객실에 먼지가 좀 있고, 방음이 잘 안되서 조계사뷰 차도 에서 차소리가 많이 들려서 아쉬웠어요. 같은 건물 식당 이용은 편했지만, 밤 늦게 출출할 때랑 아침식사가 불가했어요. 그래도 저렴한 가격에 구경할 만한 것들이 많은 위치라서 가성비 호텔로는 만족합니다.[REVIEW_END]\\n[REVIEW_START]깨끗하고 주변 먹을거리가 많습니다[REVIEW_END]\\n[REVIEW_START]위치가 너무 좋은거 빼고는.. 너무 불편했어요\\n침대도 너무 꿀렁거려 옆사람이 움직일때마다\\n깨야했고, 베개도 기본으로 제공되는거라\\n제대로 쉬지 못했습니다.\\n그리소 너무너무 건조합니다..\\n히터라 그렇다기엔 너무 건조해서 숨이 막힐꺼같았어요..\\n다시 재방문하진 않을꺼같아요…[REVIEW_END]\\n[REVIEW_START]아니 간만에 여친이랑 기분내려고 갔는데\\r\\n린넨이 주름린넨인줄 알았네요\\r\\n이런상태에 린넨은 사용하지말아야하는거 아닌가요\\r\\n\\r\\n타월에서도 냄새가나서 씻고나오니 더 냄새가 나네요\\r\\n여기는 개인타월 지참해야할것 같아요[REVIEW_END]\\n[REVIEW_START]위치도 괜찮고 방도 깔끔하게 정돈이 잘 되어있어서 1박 2일로 머물다가기 딱 좋은거 같아요[REVIEW_END]\\n[REVIEW_START]위치는 너무 좋은데, 가격대비 룸이 매우 협소합니다. 성수기 가격도 비싼데 주차비가 별도입니다.[REVIEW_END]\\n[REVIEW_START]이용하기 좋았습니다[REVIEW_END]\\n[REVIEW_START]구구절절 설명 필요없이,, 진짜 4성급은 절대 아니에요,, 위치 하나로 4성급 꽁으로 먹은느낌.... 먼지는 진짜 아무리 봐주려고해도,,\\r\\n머리카락들과 무슨 머리끈이.....\\r\\n화장실도 제대로 청소 안되어있고..\\r\\n\\r\\n사진올린 모습들만봐도.. 이게 어떻게 4성급입니까......\\r\\n나 그냥 싼 모텔에서 잤어라고 보내도 믿을만한 사진들...ㅋㅋㅋㅋㅋㅋㅋㅋㅋㅋ\\r\\n인사동 관광객으로 버티는건지......\\r\\n\\r\\n그냥 위치 좋은 모텔이라고 생각하면 맘 편합니다\\r\\n(가격생각하니까 불편하네.....)[REVIEW_END]\\n[REVIEW_START]접근성 최고![REVIEW_END]\\n[REVIEW_START]제가 이런 후기를 적게 될줄은 몰랐습니다..\\n저는 원래 후기작성을 잘 안하는 편인데..\\n위치, 청결도 다 괜찮습니다\\n그런데 문제는 방음..\\n처음 객실에 들어가서 옆방의 커텐치는 소리가 너무 크게 들려서 뭐지.. 싶었는데\\n문제는 밤에 잘려고 누웠는데 옆방에서 사랑을 나누는 소리가 너무 적나라하게 들리더군요..\\n너무 깜짝 놀라고 제가 잘못한것도 없는데 죄를 짓는것 같아 TV를 다시 켜고 있어도 소리가 여과없이 들리더군요... 더 저렴한 숙소에 있어봐도 이정도까지는 아니였습니다\\n아이들과 같이 오신 분들도 계시던데.. \\n방음이 너무너무 아쉽고 저는 다시는 안올것 같습니다[REVIEW_END]\\n[REVIEW_START]욕실에 세면대가 있거나 거울이 있으면 더 좋을것 같아요\\n나머지는 좋아요[REVIEW_END]\\n[REVIEW_START]주변에 놀게 많아서 좋아요! 외국인들이 많습니다[REVIEW_END]\\n[REVIEW_START]첫 호텔이였는데 흡족스러웠습니다 안내데스크 분들도 친절하시고 편의시설도 괜찮고 객실안도 깔끔했어요 조식도 괜찮았고 특히 저녁 전망이 예쁘고 침구류가 편해서 좋았습니다[REVIEW_END]\\n[REVIEW_START]재방문 의사 있어요 청소 상태는 살짝 아쉬워요[REVIEW_END]\\n[REVIEW_START]오랜만에 방문했는데 역시 깔끔하네요! 먼지가 많았던건 좀 아쉬워요..[REVIEW_END]\\n[REVIEW_START]교통 및 위치가 좋고 시설은 가격대비 괜찮은 편 입니다.\\n요즘 몇몇 군데 제외한 호텔 포함 숙박 업소들이 그렇듯이 직원 및 객실 서비스에 \\n큰 기대는 하지 않고 이용하신다면 오히려 편하게 이용 하실듯 하네요.[REVIEW_END]\\n[REVIEW_START]좋아요~!!![REVIEW_END]\\n[REVIEW_START]나쁘지 않았습니다 좋았어요[REVIEW_END]\\n[REVIEW_START]친절하고 인사동 쌈지길이랑 가까워서 놀기좋음 맛집도많고~ 다만 침구류에 먼지가너무많음 움직일때마다 먼지가..[REVIEW_END]\\n[REVIEW_START]청소,시설 좋아요.잘 쉬다 갑니다[REVIEW_END]\\n[REVIEW_START]청소,시설 좋습니다[REVIEW_END]\\n[REVIEW_START]3성급 신*스테이에서도 묵었는데 4성급인 여기가 훨씬 저급해요 20만원넘게 줬는데 뷰도 완전 꽉막힌곳으로 배정해주시고 조식도 인당 33000원이라는게 황당하네요 다시는 안올듯. 위치만 좋네요[REVIEW_END]\\n[REVIEW_START]데스크에 나이들어보이는 5대5 가르마 직원있으면 다른분께 응대받으세요 2시 체크인 당일체크아웃 상품 이용했는데 1시 50분쯤 체크인하려고 데스크쪽 갔더니 예약자명 확인도 안하고 대뜸 체크인 시간대 아니니 3시쯤오라고 돌려보내듯 말해서 당황했네요...앱으로 예약하고왔다고 하니까 그제서야 이름물어보고 사과한마디없이 키보드 툭툭치면서 말씀하시는데 좀 불쾌했어요 2시상품이 뻔히있는데 나인트리는 직원교육을 잘 안시키나봐요?? 숙지가 덜되어있는것 같습니다. 객실상태는 그나마 좋았습니다[REVIEW_END]\\n[REVIEW_START]별 다섯개는 살짝 아쉽네요ㅋㅋ\\n인사동 바로앞 장소늘 넘 편하고 좋았어요^^[REVIEW_END]\\n[REVIEW_START]침구가 꿉꿉했어요.[REVIEW_END]\\n[REVIEW_START]깔끔하고 뷰도 좋았습니다[REVIEW_END]\\n[REVIEW_START]너무좋았어요 조식은 쏘쏘였지만 주변에볼것도많고 매우만족합니다.[REVIEW_END]\\n[REVIEW_START]모든게 다좋았어요~  단지 객실 창문이없어서인지  먼지가넘 많았어요  좀아쉬웠어요[REVIEW_END]\\n[REVIEW_START]딱 조계사 잘 보이구 깔끔해서 좋았어요 위치도 좋네요[REVIEW_END]\\n[REVIEW_START]또 가고 싶어요[REVIEW_END]\\n[REVIEW_START]깨끗하고 좋았습니다[REVIEW_END]\\n[REVIEW_START]외국인 고객들이 좋아하셔서 항상 숙박을 잡아드립니다[REVIEW_END]\\n[REVIEW_START]깨끗하고 좋음 \\n\\n청소상태가 완벽하지는 않음 (머리카락 및 스티커 미제거) \\n물을 추가로 요청하니... 정수기에서 떠 마시라고 했다. \\n생수 2병은 추가로 더 줄 수 있는거 아닌가 30시간 스테인데[REVIEW_END]\\n[REVIEW_START]평일에는 얼리체크인 (비용지불)도 가능하고 일단 위치가 너무 좋아요. 객실도 깨끗했는에 거울에 손자국, 욕조에 머리카락 한올 있었는데 그거 빼고는 깨끗했어요. 아기랑 둘이 갔는데 가드, 가습기 대여도 가능하고 좋아요. 다만 엘리베이터가 안녕인사동과 바로 연결이 안되고 로비를 지나쳐야해서 살짝 아쉬웠어요.[REVIEW_END]\\n[REVIEW_START]깔끔하니 좋았어요! 유료주차랑 화장실이 조금은 아쉬웠네요[REVIEW_END]\\n[REVIEW_START]접근성이 뛰어나서 좋았어요.\\n직원분들 친절하셨습니다.[REVIEW_END]'"
      ]
     },
     "execution_count": 6,
     "metadata": {},
     "output_type": "execute_result"
    }
   ],
   "source": [
    "# LIST -> TEXT로 바꿔주기\n",
    "reviews_good_text = '\\n'.join(reviews_good)\n",
    "reviews_bad_text = '\\n'.join(reviews_bad)\n",
    "reviews_bad_text"
   ]
  },
  {
   "cell_type": "markdown",
   "metadata": {},
   "source": [
    "전처리 함수 작성"
   ]
  },
  {
   "cell_type": "code",
   "execution_count": 7,
   "metadata": {},
   "outputs": [
    {
     "data": {
      "text/plain": [
       "'[REVIEW_START]깨끗하고 너무 좋았어요[REVIEW_END]\\n[REVIEW_START]위치도 아주좋고 숙소도 깨끗하고 좋아요~[REVIEW_END]\\n[REVIEW_STAR'"
      ]
     },
     "execution_count": 7,
     "metadata": {},
     "output_type": "execute_result"
    }
   ],
   "source": [
    "import datetime\n",
    "from dateutil import parser\n",
    "\n",
    "def preprocess_reviews(path='./res/reviews.json'):\n",
    "    # json 불러오기\n",
    "    with open(path, 'r', encoding='utf-8') as f:\n",
    "        review_list = json.load(f)\n",
    "\n",
    "    reviews_good, reviews_bad = [], []\n",
    "    \n",
    "    current_date = datetime.datetime.now() # 현재 날짜\n",
    "    date_boundary = current_date - datetime.timedelta(days=6*30) # 6 month\n",
    "\n",
    "    for r in review_list:\n",
    "        review_date_str = r['date']\n",
    "        try:\n",
    "            review_date = parser.parse(review_date_str)\n",
    "        except (ValueError, TypeError): # 6시간 전, 22시간 전 등 에러\n",
    "            review_date = current_date # 지금 날짜\n",
    "\n",
    "        # 리뷰 날짜가 6개월안에 속하면, 계속\n",
    "        if review_date < date_boundary:\n",
    "            continue\n",
    "\n",
    "        if r['stars'] == 5: # special token 'REVIEW_START', 'REVIEW_END'\n",
    "            reviews_good.append('[REVIEW_START]' + r['review'] + '[REVIEW_END]')\n",
    "        else:\n",
    "            reviews_bad.append('[REVIEW_START]' + r['review'] + '[REVIEW_END]')\n",
    "    # LIST -> TEXT로 바꿔주기\n",
    "    reviews_good_text = '\\n'.join(reviews_good)\n",
    "    reviews_bad_text = '\\n'.join(reviews_bad)\n",
    "\n",
    "    return reviews_good_text, reviews_bad_text\n",
    "\n",
    "good, bad = preprocess_reviews()\n",
    "good[:100]"
   ]
  },
  {
   "cell_type": "markdown",
   "metadata": {},
   "source": [
    "## 평가용 함수\n",
    "평가 기준 설정\n",
    "* MT-Bench 논문 기반 Pairwise Comparision (=LLM 기반 평가)\n",
    "* 비교하는 방식 VS 점수 매기는 방식\n",
    "* 비교가 상대적으로 정확"
   ]
  },
  {
   "cell_type": "markdown",
   "metadata": {},
   "source": [
    "평가 스크립트\n",
    "* MT-Bench 논문 Prompt에서 일부 단어만 수정"
   ]
  },
  {
   "cell_type": "code",
   "execution_count": 8,
   "metadata": {},
   "outputs": [],
   "source": [
    "def pairwise_eval(reviews, answer_a, answer_b):\n",
    "    eval_prompt = f\"\"\"[System]\n",
    "Please act as an impartial judge and evaluate the quality of the Korean summaries provided by two\n",
    "AI assistants to the set of user reviews on accommodations displayed below. You should choose the assistant that\n",
    "follows the user’s instructions and answers the user’s question better. Your evaluation\n",
    "should consider factors such as the helpfulness, relevance, accuracy, depth, creativity,\n",
    "and level of detail of their responses. Begin your evaluation by comparing the two\n",
    "responses and provide a short explanation. Avoid any position biases and ensure that the\n",
    "order in which the responses were presented does not influence your decision. Do not allow\n",
    "the length of the responses to influence your evaluation. Do not favor certain names of\n",
    "the assistants. Be as objective as possible. After providing your explanation, output your\n",
    "final verdict by strictly following this format: \"[[A]]\" if assistant A is better, \"[[B]]\"\n",
    "if assistant B is better, and \"[[C]]\" for a tie.\n",
    "[User Reviews]\n",
    "{reviews}\n",
    "[The Start of Assistant A’s Answer]\n",
    "{answer_a}\n",
    "[The End of Assistant A’s Answer]\n",
    "[The Start of Assistant B’s Answer]\n",
    "{answer_b}\n",
    "[The End of Assistant B’s Answer]\"\"\"\n",
    "    \n",
    "    completion = client.chat.completions.create(\n",
    "        model='gpt-4o-2024-05-13',\n",
    "        messages=[{'role': 'user', 'content': eval_prompt}],\n",
    "        temperature=0.0\n",
    "    )\n",
    "\n",
    "    return completion"
   ]
  },
  {
   "cell_type": "markdown",
   "metadata": {},
   "source": [
    "## Baseline 모델 개발\n",
    "* 기본적인 성능을 제공하는 간단한 모델"
   ]
  },
  {
   "cell_type": "code",
   "execution_count": 9,
   "metadata": {},
   "outputs": [],
   "source": [
    "prompt_baseline = f\"\"\"아래 숙소 리뷰에 대해 5문장 내로 요약해줘\"\"\""
   ]
  },
  {
   "cell_type": "code",
   "execution_count": 10,
   "metadata": {},
   "outputs": [
    {
     "name": "stdout",
     "output_type": "stream",
     "text": [
      "다양한 리뷰 중에서는 숙소가 깨끗하고 위치가 좋다는 내용이 많이 언급되었습니다. 또한 시설과 서비스에 대한 만족도가 높았고, 교통편이 좋다는 평가도 많이 받았습니다.\n"
     ]
    }
   ],
   "source": [
    "reviews, _ = preprocess_reviews(path='./res/reviews.json')\n",
    "\n",
    "def summarize(reviews, prompt, temperature=0.0, model='gpt-3.5-turbo-0125'):\n",
    "    prompt = prompt + '\\n\\n' + reviews\n",
    "\n",
    "    completion = client.chat.completions.create(\n",
    "        model=model,\n",
    "        messages=[{'role': 'user', 'content': prompt}],\n",
    "        temperature=temperature\n",
    "    )\n",
    "\n",
    "    return completion\n",
    "\n",
    "print(summarize(reviews, prompt_baseline).choices[0].message.content)"
   ]
  },
  {
   "cell_type": "markdown",
   "metadata": {},
   "source": [
    "## Baseline 모델 평가"
   ]
  },
  {
   "cell_type": "code",
   "execution_count": 11,
   "metadata": {},
   "outputs": [],
   "source": [
    "# 실제 야놀자 리뷰 요약\n",
    "# 고도화 작업을 통화 결과물\n",
    "summary_real_20240526 = '위치가 매우 우수한 숙박시설로, 인사동과 조계사, 경복궁 등 관광지에 도보로 이동할 수 있는 편리한 위치에 있습니다. 객실은 깔끔하며 직원들의 친절한 서비스와 청결한 시설이 인상적입니다. 주변에는 맛집과 편의시설이 많아 편리하며, 교통 접근성도 좋습니다. 전체적으로 만족도가 높고 자주 방문하고 싶은 곳으로 손꼽히는 숙소로 평가됩니다.'"
   ]
  },
  {
   "cell_type": "code",
   "execution_count": 12,
   "metadata": {},
   "outputs": [
    {
     "name": "stdout",
     "output_type": "stream",
     "text": [
      "Assistant A’s summary is brief and general, stating that most reviews mention cleanliness and satisfaction with the accommodation. It highlights the common themes of cleanliness and good location but lacks depth and specific details.\n",
      "\n",
      "Assistant B’s summary, on the other hand, provides a more detailed and comprehensive overview. It mentions specific attractions like 인사동, 조계사, and 경복궁, and highlights the convenience of the location. It also notes the cleanliness of the rooms, the friendliness of the staff, and the abundance of nearby amenities. This summary captures a broader range of positive aspects mentioned in the reviews and provides a clearer picture of why the accommodation is well-regarded.\n",
      "\n",
      "Therefore, Assistant B’s response is more helpful, relevant, accurate, and detailed.\n",
      "\n",
      "[[B]]\n"
     ]
    }
   ],
   "source": [
    "print(pairwise_eval(reviews, summarize(reviews, prompt_baseline).choices[0].message.content, summary_real_20240526).choices[0].message.content)"
   ]
  },
  {
   "cell_type": "markdown",
   "metadata": {},
   "source": [
    "## 대규모 평가 스크립트\n",
    "* 원래는 많은 수의 다양한 데이터에 대해 평가를 하지만, 동일한 Prompt에 대해 temperature 높여서 평가 진행"
   ]
  },
  {
   "cell_type": "code",
   "execution_count": 13,
   "metadata": {},
   "outputs": [
    {
     "data": {
      "text/plain": [
       "['다양한 리뷰가 있지만 대체로 깨끗하고 위치가 좋다고 평가한 것 같습니다. 강추할 만한 숙소라는 인상을 받았어요.',\n",
       " '다양한 리뷰가 있지만 대부분이 깨끗하고 위치가 좋다고 하며 전반적으로 만족한 숙소라는 내용을 담고 있다.',\n",
       " '다양한 리뷰가 있지만 대부분 깨끗하고 위치가 좋고 만족하며 편안한 숙박을 즐긴다고 한다.',\n",
       " '다양한 리뷰들 중에서는, \"깨끗하고 너무 좋았어요\"라는 리뷰가 돋보였습니다.',\n",
       " '다양한 리뷰가 있지만 대부분이 깔끔하고 위치가 좋다는 내용을 담고 있습니다. 숙소 시설이나 서비스에 대한 긍정적인 평가도 많이 보입니다.',\n",
       " '다양한 리뷰 중 가장 일반적인 내용인 \"깔끔하고 위치가 좋았음\"으로 요약할 수 있겠습니다.',\n",
       " '숙소는 깨끗하고 좋은 위치에 있어서 만족했다.',\n",
       " '다양한 손님들로부터 깨끗하고 좋은 위치에 위치한 숙소에 대한 긍정적 리뷰가 많이 있습니다.',\n",
       " '다양한 리뷰가 있지만 대체적으로 깨끗하고 좋은 위치에 위치한 숙소라는 내용이 강조된다.',\n",
       " '모든 리뷰가 깨끗하고 좋았다는 내용을 강조하고 있으며, 위치와 시설에 대한 만족도가 높은 편이다. 각 리뷰마다 특정한 호감 표현이나 불만 사항이 나타나는 것은 없는 것으로 보인다.']"
      ]
     },
     "execution_count": 13,
     "metadata": {},
     "output_type": "execute_result"
    }
   ],
   "source": [
    "# 10개의 다른 리뷰 요약을 해줘\n",
    "eval_count = 10\n",
    "\n",
    "summaries_baseline = [summarize(reviews, prompt_baseline, temperature=1.0).choices[0].message.content for _ in range(eval_count)]\n",
    "summaries_baseline"
   ]
  },
  {
   "cell_type": "code",
   "execution_count": 14,
   "metadata": {},
   "outputs": [
    {
     "name": "stderr",
     "output_type": "stream",
     "text": [
      "100%|██████████| 10/10 [00:48<00:00,  4.90s/it]"
     ]
    },
    {
     "name": "stdout",
     "output_type": "stream",
     "text": [
      "Wins: 0, Losses: 10, Ties: 0\n"
     ]
    },
    {
     "name": "stderr",
     "output_type": "stream",
     "text": [
      "\n"
     ]
    }
   ],
   "source": [
    "# 대규모 평가 스크립트\n",
    "from tqdm import tqdm\n",
    "\n",
    "def pairwise_eval_batch(reviews, answers_a, answers_b):\n",
    "    a_cnt, b_cnt, draw_cnt = 0, 0, 0\n",
    "    for i in tqdm(range(len(answers_a))):\n",
    "        completion = pairwise_eval(reviews, answers_a[i], answers_b[i])\n",
    "        verdict_text = completion.choices[0].message.content\n",
    "\n",
    "        if '[[A]]' in verdict_text:\n",
    "            a_cnt += 1\n",
    "        elif '[[B]]' in verdict_text:\n",
    "            b_cnt += 1\n",
    "        elif '[[C]]' in verdict_text:\n",
    "            draw_cnt += 1\n",
    "        else:\n",
    "            print('Evaluation Error')\n",
    "    return a_cnt, b_cnt, draw_cnt\n",
    "\n",
    "wins, losses, ties = pairwise_eval_batch(reviews, summaries_baseline, [summary_real_20240526 for _ in range(len(summaries_baseline))])\n",
    "print(f'Wins: {wins}, Losses: {losses}, Ties: {ties}')"
   ]
  },
  {
   "cell_type": "markdown",
   "metadata": {},
   "source": [
    "* 평가를 10번하는건 충분하지 않지만 일단 진행 (50~100)\n",
    "* 10번 평가 중 2번은 좋은 평가를 받음"
   ]
  },
  {
   "cell_type": "markdown",
   "metadata": {},
   "source": [
    "## 모델 고도화 1 - 조건 명시"
   ]
  },
  {
   "cell_type": "code",
   "execution_count": 15,
   "metadata": {},
   "outputs": [
    {
     "name": "stderr",
     "output_type": "stream",
     "text": [
      "100%|██████████| 10/10 [01:06<00:00,  6.69s/it]"
     ]
    },
    {
     "name": "stdout",
     "output_type": "stream",
     "text": [
      "Wins: 0, losses: 10, ties: 0\n"
     ]
    },
    {
     "name": "stderr",
     "output_type": "stream",
     "text": [
      "\n"
     ]
    }
   ],
   "source": [
    "prompt = f\"\"\"당신은 요약 전문가입니다. 사용자 숙소 리뷰들이 주어졌을 때 요약하는 것이 당신의 목표입니다.\n",
    "\n",
    "요약 결과는 다음 조건들을 충족해야 합니다:\n",
    "1. 모든 문장은 항상 존댓말로 끝나야 합니다.\n",
    "2. 숙소에 대해 소개하는 톤앤매너로 작성해주세요.\n",
    "  2-1. 좋은 예시\n",
    "    a) 전반적으로 좋은 숙소였고 방음도 괜찮았다는 평입니다.\n",
    "    b) 재방문 예정이라는 평들이 존재합니다.\n",
    "  2-2. 나쁜 예시\n",
    "    a) 좋은 숙소였고 방음도 괜찮았습니다.\n",
    "    b) 재방문 예정입니다.\n",
    "3. 요약 결과는 최소 2문장, 최대 5문장 사이로 작성해주세요.\n",
    "    \n",
    "아래 숙소 리뷰들에 대해 요약해주세요:\"\"\"\n",
    "\n",
    "eval_count=10\n",
    "# 리뷰 요약\n",
    "summarise = [summarize(reviews, prompt, temperature=1.0).choices[0].message.content for _ in range(eval_count)]\n",
    "\n",
    "# 평가\n",
    "wins, losses, ties = pairwise_eval_batch(reviews, summarise, [summary_real_20240526 for _ in range(len(summarise))])\n",
    "print(f'Wins: {wins}, losses: {losses}, ties: {ties}')"
   ]
  },
  {
   "cell_type": "markdown",
   "metadata": {},
   "source": [
    "## 모델 고도화 2 - 입력 데이터 품질 증가"
   ]
  },
  {
   "cell_type": "code",
   "execution_count": 16,
   "metadata": {},
   "outputs": [],
   "source": [
    "# 전처리 함수 수정\n",
    "# 고품질 리뷰들만 남기자\n",
    "import datetime\n",
    "from dateutil import parser\n",
    "\n",
    "def preprocess_reviews(path='./res/reviews.json'):\n",
    "    # json 불러오기\n",
    "    with open(path, 'r', encoding='utf-8') as f:\n",
    "        review_list = json.load(f)\n",
    "\n",
    "    reviews_good, reviews_bad = [], []\n",
    "    \n",
    "    current_date = datetime.datetime.now() # 현재 날짜\n",
    "    date_boundary = current_date - datetime.timedelta(days=6*30) # 6 month\n",
    "\n",
    "    filtered_cnt = 0\n",
    "    for r in review_list:\n",
    "        review_date_str = r['date']\n",
    "        try:\n",
    "            review_date = parser.parse(review_date_str)\n",
    "        except (ValueError, TypeError): # 6시간 전, 22시간 전 등 에러\n",
    "            review_date = current_date # 지금 날짜\n",
    "\n",
    "        # 리뷰 날짜가 6개월안에 속하면, 계속\n",
    "        if review_date < date_boundary:\n",
    "            continue\n",
    "        # 고도화 2, 리뷰 길이 30미만 필터링\n",
    "        if len(r['review']) < 30:\n",
    "            filtered_cnt += 1\n",
    "            continue\n",
    "\n",
    "        if r['stars'] == 5: # special token 'REVIEW_START', 'REVIEW_END'\n",
    "            reviews_good.append('[REVIEW_START]' + r['review'] + '[REVIEW_END]')\n",
    "        else:\n",
    "            reviews_bad.append('[REVIEW_START]' + r['review'] + '[REVIEW_END]')\n",
    "    # LIST -> TEXT로 바꿔주기\n",
    "    reviews_good_text = '\\n'.join(reviews_good)\n",
    "    reviews_bad_text = '\\n'.join(reviews_bad)\n",
    "\n",
    "    return reviews_good_text, reviews_bad_text\n",
    "\n",
    "reviews, _ = preprocess_reviews()"
   ]
  },
  {
   "cell_type": "markdown",
   "metadata": {},
   "source": [
    "* 리뷰 길이가 30미만인 리뷰만 출력\n",
    "* 40개가 필터링 됨\n",
    "* 좋은 리뷰는 23개"
   ]
  },
  {
   "cell_type": "code",
   "execution_count": 17,
   "metadata": {},
   "outputs": [
    {
     "name": "stderr",
     "output_type": "stream",
     "text": [
      "100%|██████████| 10/10 [01:26<00:00,  8.69s/it]"
     ]
    },
    {
     "name": "stdout",
     "output_type": "stream",
     "text": [
      "Wins: 8, losses: 2, ties: 0\n"
     ]
    },
    {
     "name": "stderr",
     "output_type": "stream",
     "text": [
      "\n"
     ]
    }
   ],
   "source": [
    "eval_count = 10\n",
    "summarise = [summarize(reviews, prompt, temperature=1.0, model='gpt-3.5-turbo-0125').choices[0].message.content for _ in range(eval_count)]\n",
    "wins, losses, ties = pairwise_eval_batch(reviews, summarise, [summary_real_20240526 for _ in range(len(summarise))])\n",
    "print(f'Wins: {wins}, losses: {losses}, ties: {ties}')"
   ]
  },
  {
   "cell_type": "markdown",
   "metadata": {},
   "source": [
    "* 모델 고도화라는 말이 있지만, 어떤 데이터를 쓰느냐 중요! 입력데이터의 중요성! (전처리 강조)\n",
    "* 길이를 <30으로 하였으나, 더 자르면 좋아질 수 있다."
   ]
  },
  {
   "cell_type": "markdown",
   "metadata": {},
   "source": [
    "## 모델 고도화 3 - Few-Shot Prompting"
   ]
  },
  {
   "cell_type": "code",
   "execution_count": 18,
   "metadata": {},
   "outputs": [
    {
     "name": "stderr",
     "output_type": "stream",
     "text": [
      "100%|██████████| 10/10 [01:21<00:00,  8.14s/it]"
     ]
    },
    {
     "name": "stdout",
     "output_type": "stream",
     "text": [
      "Wins: 6, losses: 4, ties: 0\n"
     ]
    },
    {
     "name": "stderr",
     "output_type": "stream",
     "text": [
      "\n"
     ]
    }
   ],
   "source": [
    "reviews_1shot, _ = preprocess_reviews('./res/ninetree_pangyo.json')\n",
    "summary_1shot = summarize(reviews_1shot, prompt, temperature=0.0, model='gpt-4-turbo-2024-04-09').choices[0].message.content\n",
    "prompt_1shot = f\"\"\"당신은 요약 전문가입니다. 사용자 숙소 리뷰들이 주어졌을 때 요약하는 것이 당신의 목표입니다.\n",
    "\n",
    "요약 결과는 다음 조건들을 충족해야 합니다:\n",
    "1. 모든 문장은 항상 존댓말로 끝나야 합니다.\n",
    "2. 숙소에 대해 소개하는 톤앤매너로 작성해주세요.\n",
    "  2-1. 좋은 예시\n",
    "    a) 전반적으로 좋은 숙소였고 방음도 괜찮았다는 평입니다.\n",
    "    b) 재방문 예정이라는 평들이 존재합니다.\n",
    "  2-2. 나쁜 예시\n",
    "    a) 좋은 숙소였고 방음도 괜찮았습니다.\n",
    "    b) 재방문 예정입니다.\n",
    "3. 요약 결과는 최소 2문장, 최대 5문장 사이로 작성해주세요.\n",
    "\n",
    "다음은 리뷰들과 요약 예시입니다.\n",
    "예시 리뷰들:\n",
    "{reviews_1shot}\n",
    "예시 요약 결과:\n",
    "{summary_1shot}\n",
    "    \n",
    "아래 숙소 리뷰들에 대해 요약해주세요:\"\"\"\n",
    "\n",
    "summarise = [summarize(reviews, prompt, temperature=1.0, model='gpt-3.5-turbo-0125').choices[0].message.content for _ in range(eval_count)]\n",
    "wins, losses, ties = pairwise_eval_batch(reviews, summarise, [summary_real_20240526 for _ in range(len(summarise))])\n",
    "print(f'Wins: {wins}, losses: {losses}, ties: {ties}')"
   ]
  },
  {
   "cell_type": "code",
   "execution_count": 19,
   "metadata": {},
   "outputs": [
    {
     "data": {
      "text/plain": [
       "['이 숙소는 말할 필요 없을 것 같고 주변 인사동과 조계사 위로 경복궁을 도보로 품은 입지가 최고입니다.\\n\\n3번째 방문인데 좋습니다! 주변 관광지와 교통도 좋습니다.\\n\\n나인트리인사동은 서울 갈 때마다 하루는 꼭 숙박하는 곳입니다. 시설이나 서비스 위치, 뭐 하나 빠지는 것 없는 최고의 숙소입니다. 이번에도 정말 편안하게 잘 쉬다 왔습니다. ^^\\n\\n엄마랑 같이 이용했는데 위치도 좋고 깔끔하고 좋았습니다.\\n\\n시설도 깨끗하고 호텔 문을 나오면 인사동이라 주변 관광하기 너무 편리합니다 ^^',\n",
       " '이 숙소는 인사동과 조계사 위로 경복궁을 품은 입지가 최고입니다. 주변 관광지와 교통이 편리하여 관광하기 좋고, 시설이나 서비스에 만족한 손님이 많습니다. 또한 위치가 좋아서 다음 서울 여행 때도 꼭 묵고 싶어하는 손님이 많습니다. 종합적으로 나인트리인사동은 시설도 좋고 서비스도 좋아서 다시 방문하고 싶은 숙소입니다.',\n",
       " '이 숙소는 말할 필요 없이 주변 인사동과 조계사 위로 경복궁을 도보로 품은 입지가 최고입니다. 주변관광지와 교통이 좋아서 3번째 방문인데 좋았습니다. 시설과 서비스 등 뭐 하나 빠지는 것 없이 편안하고 깔끔한 숙소입니다. 위치와 교통이 최고의 장점이며 다음 서울 여행에도 묵고 싶은 곳이었습니다. 나인트리 최고의 숙소 중 하나입니다.',\n",
       " '이 숙소는 주변 관광지와 교통이 편리한 곳에 위치하고 있습니다. 시설이나 서비스는 빠른 것 없이 편안한 휴식을 제공해주며, 위치가 인사동 중심이라 접근성이 용이합니다. 즐거운 서울 여행을 위해 다시 방문하고 싶은 곳입니다. 또한, 깨끗한 시설과 친절한 직원들이 좋은 인상을 줍니다. 늘 머물고 싶은 곳 중 하나입니다.',\n",
       " '이 숙소는 말할 필요 없을 정도로 인사동과 조계사, 경복궁 등 주변 관광지를 도보로 품은 최고의 입지를 자랑합니다. 이전 방문자들은 주변 교통과 관광지에 대해 좋은 평가를 내리고 있습니다. 또한, 시설과 서비스, 위치 등 어느 부분에서도 부족함이 없는 최고의 숙소로 손꼽히고 있습니다. 위치와 교통이 가장 큰 장점으로 언급되며, 청결한 시설과 친절한 직원들이 긍정적인 인상을 줍니다. 또한, 주변 맛집이 풍부하고 완벽한 호캉스를 즐길 수 있는 환경이라고 호평을 받고 있습니다.',\n",
       " '이 숙소는 말할 필요 없이 주변 인사동과 조계사 위로 경복궁을 도보로 품은 입지가 최고입니다. 3번째 방문인데 주변 관광지와 교통이 좋아서 좋습니다. 서울을 여행할 때마다 꼭 숙박하고 싶은 나인트리인사동은 시설이나 서비스 위치에서 최고의 숙소입니다. 위치도 좋고 깔끔한 시설은 이용자들에게 만족감을 줍니다. 조금은 소란스러운 복도가 있지만 인사동 한복판에 위치하여 관광지로의 접근성은 아주 좋습니다.',\n",
       " '이 숙소는 말할 필요 없을 것 같고, 주변 인사동과 조계사 위로 경복궁을 도보로 품은 입지가 최고입니다. 3번째 방문인데 좋습니다! 주변 관광지와 교통도 좋습니다. 서울갈때마다 하루는 꼭 숙박하는 곳인 나인트리인사동은 시설이나 서비스 위치 뭐하나 빠지는 것 없는 최고의 숙소입니다. 엄마랑 같이 이용했는데 위치도 좋고 깔끔하고 좋았습니다. 위치가 너무 좋은 곳에 있어 교통편.편의점. 여러 시설들의 가까이에 있어 이용하기 좋았고, 주변의 디저트 맛집들이 즐비하여 가을에도 호캉스할 계획입니다.',\n",
       " '이 숙소는 말할 것도 없이 주변 인사동과 경복궁을 도보로 즐길 수 있는 최고의 위치입니다. \\n시설이나 서비스에 대한 불만 없이 편안하게 쉬다 왔습니다. \\n깨끗하고 위치도 좋아서 교통이 편리한 나인트리인사동은 반복적인 방문을 이유로 가장하는 곳입니다. \\n방은 깔끔하고 시설도 좋았지만 일부 미흡한 점 있었지만, 가격, 위치, 서비스 모두 최고로 만족스러웠습니다. \\n서울을 방문한다면 꼭 다시 예약하고 싶은 나인트리의 위치와 시설은 정말 좋았습니다.',\n",
       " '이 숙소는 말할 필요 없을 것 같고 주변 인사동과 조계사 위로 경복궁을 도보로 품은 입지가 최고입니다. 위치와 교통이 좋아서 3번째 방문인데 좋다는 평이 있습니다. 나인트리인사동은 매번 편안한 휴식을 제공하는 최고의 숙박지로 손꼽히는데 이번에도 만족스럽게 머물렀다는 이야기가 있습니다. 위치가 인사동 한복판에 있어서 관광하기 편리하고 깨끗한 시설과 친절한 직원분들이 좋았다고 합니다^^. 위치와 서비스가 최고 수준이어서 다음 서울 여행에도 꼭 이용하고 싶은 곳이랍니다.',\n",
       " '이 숙소는 말할 필요 없을 것 같고, 주변 인사동과 조계사 위로 경복궁을 도보로 포함한 입지가 최고입니다. 3번째 방문인데 좋습니다! 주변 관광지와 교통도 좋습니다. 나인트리 인사동은 서울 갈 때마다 하루는 꼭 숙박하는 곳으로, 시설이나 서비스 위치 뭐 하나 빠지는 게 없는 최고의 숙소입니다. 위치가 너무 좋은 곳에 있어 교통편이 편리하고 시설도 청결하여 다음 서울 여행도 여기에서 묵고 싶은 최고의 숙소입니다. 위치도 좋고 시설도 너무 깨끗하며, 주변에 맛집들도 많아 가을에도 호캉스할 계획인데 또 연박할 계획입니다.']"
      ]
     },
     "execution_count": 19,
     "metadata": {},
     "output_type": "execute_result"
    }
   ],
   "source": [
    "summarise"
   ]
  },
  {
   "cell_type": "code",
   "execution_count": 20,
   "metadata": {},
   "outputs": [
    {
     "name": "stderr",
     "output_type": "stream",
     "text": [
      "100%|██████████| 10/10 [01:30<00:00,  9.07s/it]"
     ]
    },
    {
     "name": "stdout",
     "output_type": "stream",
     "text": [
      "Wins: 6, losses: 4, ties: 0\n"
     ]
    },
    {
     "name": "stderr",
     "output_type": "stream",
     "text": [
      "\n"
     ]
    }
   ],
   "source": [
    "prompt_1shot = f\"\"\"당신은 요약 전문가입니다. 사용자 숙소 리뷰들이 주어졌을 때 요약하는 것이 당신의 목표입니다.\n",
    "예시 리뷰들:\n",
    "{reviews_1shot}\n",
    "예시 요약 결과:\n",
    "{summary_1shot}\n",
    "    \n",
    "아래 숙소 리뷰들에 대해 요약해주세요:\"\"\"\n",
    "\n",
    "summarise = [summarize(reviews, prompt, temperature=1.0, model='gpt-3.5-turbo-0125').choices[0].message.content for _ in range(eval_count)]\n",
    "wins, losses, ties = pairwise_eval_batch(reviews, summarise, [summary_real_20240526 for _ in range(len(summarise))])\n",
    "print(f'Wins: {wins}, losses: {losses}, ties: {ties}')"
   ]
  },
  {
   "cell_type": "code",
   "execution_count": null,
   "metadata": {},
   "outputs": [],
   "source": [
    "summaries"
   ]
  },
  {
   "cell_type": "code",
   "execution_count": 22,
   "metadata": {},
   "outputs": [
    {
     "name": "stderr",
     "output_type": "stream",
     "text": [
      "100%|██████████| 10/10 [01:15<00:00,  7.53s/it]"
     ]
    },
    {
     "name": "stdout",
     "output_type": "stream",
     "text": [
      "Wins: 9, Losses: 1, Ties: 0\n"
     ]
    },
    {
     "name": "stderr",
     "output_type": "stream",
     "text": [
      "\n"
     ]
    }
   ],
   "source": [
    "reviews_2shot, _ = preprocess_reviews('./res/ninetree_yongsan.json')\n",
    "summary_2shot = summarize(reviews_2shot, prompt_1shot, temperature=0.0, model='gpt-4-turbo-2024-04-09').choices[0].message.content\n",
    "\n",
    "prompt_2shot = f\"\"\"당신은 요약 전문가입니다. 사용자 숙소 리뷰들이 주어졌을 때 요약하는 것이 당신의 목표입니다. 다음은 리뷰들과 요약 예시입니다.\n",
    "\n",
    "예시 리뷰들 1:\n",
    "{reviews_1shot}\n",
    "예시 요약 결과 1:\n",
    "{summary_1shot}\n",
    "\n",
    "예시 리뷰들 2:\n",
    "{reviews_2shot}\n",
    "예시 요약 결과 2:\n",
    "{summary_2shot}\n",
    "    \n",
    "아래 숙소 리뷰들에 대해 요약해주세요:\"\"\"\n",
    "\n",
    "summaries = [summarize(reviews, prompt_2shot, temperature=1.0, model='gpt-3.5-turbo-0125').choices[0].message.content for _ in range(eval_count)]\n",
    "wins, losses, ties = pairwise_eval_batch(reviews, summaries, [summary_real_20240526 for _ in range(len(summaries))])\n",
    "print(f'Wins: {wins}, Losses: {losses}, Ties: {ties}')"
   ]
  },
  {
   "cell_type": "code",
   "execution_count": 23,
   "metadata": {},
   "outputs": [
    {
     "data": {
      "text/plain": [
       "['이 숙소는 인사동과 주요 관광지에 위치한 우수한 숙소로 알려져 있습니다. 방은 깨끗하고 시설은 훌륭하며, 직원들의 친절함과 서비스도 만족스러운 편입니다. 주변 교통의 편리함과 맛집 다수로 둘러싸인 이 숙소는 다음 방문을 고려할 만한 높은 만족도를 자랑합니다.특히 인사동과 근접한 정확한 위치는 숙소 이용객들에게 편의를 제공하고 있습니다.하지만 일부 이용객들은 복도에서 소음이 발생하는 것과 세면대 청결에 미흡함을 지적했습니다. 이러한 단점을 보완하면 최고의 숙박 체험을 제공할 수 있을 것으로 보입니다.',\n",
       " '이 숙소는 인사동과 근접한 위치에 있어 관광이나 쇼핑을 즐기기에 아주 편리합니다. 주변 교통이 편리하고 청결한 시설을 제공하며, 직원들도 친절한 편으로 알려져 있습니다. 특히 위치와 접근성이 좋은 것으로 평가받고 있고, 서울 여행 시 추천할만한 가격대와 서비스를 제공하는 것으로 유명합니다. 하지만 몇몇 리뷰에선 청결 상태와 프론트 데스크 서비스에 대한 개선점이 언급되었습니다.다른 리뷰들에서는 위치나 근접한 맛집을 즐기거나 교통편이 좋았다는 긍정적인 평가가 많이 나왔습니다.',\n",
       " '이 숙소는 교통의 요지에 위치하여 주변 관광지와 이동이 편리하고, 시설과 서비스 모두 만족스러워하는 손님들이 많이 찾는 곳으로 평가받고 있습니다. 위치가 접근성이 좋고 깔끔한 객실은 편안한 휴식을 즐길 수 있도록 도와줍니다. 또한, 직원의 친절함과 시설의 청결함이 긍정적인 인상을 남깁니다. 하지만 일부 손님들은 프론트 직원의 서비스에 조금 불만을 표현하고 있습니다. 전반적으로는 이 호텔을 다음 방문을 희망하는 많은 손님들의 호평을 받고 있습니다.',\n",
       " '요약:\\n나인트리 인사동은 교통이 편리하고 주변 인사동, 조계사, 경복궁을 도보로 방문하기에 좋은 위치에 위치한 호텔이다. 호텔은 깔끔하고 시설과 서비스가 훌륭하며, 주변 관광지와 교통편을 누리기에 편리하다는 이용객들의 호평을 받고 있다. 특히 인사동 한복판이라는 접근성은 더욱 매력적으로 다가오는 것으로 보인다. 전체적으로 고객들은 위치, 시설, 서비스 등을 높게 평가하며 재방문 의사가 높은 호텔로 손꼽히고 있다.',\n",
       " '위치, 교통편, 관광 명소 접근성이 우수한 나인트리 인사동 호텔이 주변 맛집과 쇼핑 시설의 편리성뿐만 아니라 청결한 시설과 친절한 직원들로 인해 만족도가 높은 호텔로 평가되고 있습니다. 방문객들은 다음 방문을 희망하며, 위치와 가격, 서비스에 대한 양호한 평가를 내리고 있습니다. 회사나 가족, 친구와 함께 서울 여행 시에도 나인트리 인사동 호텔을 고려하는 프로그램이다.',\n",
       " '주변 관광지와 교통이 모두 편리한 인사동에 위치한 나인트리인사동은 매우 만족스러운 숙소로 평가받고 있습니다. 객실은 깨끗하고 편안하며, 직원들의 서비스도 친절한 편입니다. 위치가 중심에 있어 관광하기에 편리하고, 근처에 맛집들도 많아 먹거리 탐방하기에도 좋습니다. 위생 문제나 소음이 조금 걱정되는 부분도 있었으나, 전반적으로 다양한 면에서 훌륭한 평가를 받고 있습니다.특히 청결도, 위치, 교통편, 주변 시설, 서비스 등이 좋다는 의견이 많이 나타나고 있습니다.',\n",
       " '이 숙소는 관광지에 위치하고 있어 교통 및 주변 관광지 접근성이 매우 좋다는 점이 많이 언급되었습니다. 숙소 시설은 깔끔하고 청결하며 위치가 매우 편리하다고 고객들이 호평하고 있습니다. 다만, 일부 고객은 프론트 데스크 직원의 친절함에 대한 의견이 분분하게 나타났습니다. 종합적으로 이 호텔은 관광객들에게 훌륭한 숙박 경험을 제공하고 있음을 나타내고 있습니다.',\n",
       " '이 리뷰들을 종합하면, 나인트리 인사동은 입지가 훌륭하여 경복궁, 인사동, 조계사 등의 관광지를 도보로 이용할 수 있고, 교통이 편리한 위치에 있습니다. 숙소 시설은 청결하며 직원들의 친절함과 서비스 수준도 높게 평가되었습니다. 많은 이용객들이 교통편, 청결도, 주변 시설 등을 만족하며 재방문 의사를 표명하고 있습니다. 다만, 일부 리뷰에서는 소음이나 친절함에 관한 언급이 있으나, 전반적으로 다양한 이용객들의 호평을 받는 숙소라고 할 수 있습니다.',\n",
       " '이 호텔은 위치가 인사동과 근처 관광지에 인접하여 교통 접근성이 우수하고 주변 명소를 즐기기에 매우 편리합니다. 숙소의 시설과 서비스 품질 또한 잘 유지되어 있으며, 청결도와 편의시설 등에 대한 이용객들의 만족도가 높습니다. 일부 리뷰에서는 프론트 직원의 서비스에 대한 의견 차이가 있지만 전반적으로 숙박 경험에 만족감을 표현하는 리뷰들이 많이 있습니다. 여러 명소를 방문할 수 있는 좋은 위치와 편리한 시설을 갖춘 호텔로 평가받고 있습니다.',\n",
       " '이 숙소는 위치가 매우 우수하여 주변 관광지(인사동, 조계사, 경복궁)와 교통이 편리하며, 깨끗한 시설과 친절한 직원 서비스로 호평을 받고 있습니다. 또한, 조용하고 편안한 숙소 분위기와 가깝고 다양한 맛집들이 위치한 인사동의 장점이 언급되었습니다. 이 숙소에서 지낸 숙박경험에 대해 매우 긍정적인 평가가 많이 나왔습니다. 하지만 몇몇 리뷰에서는 세면대 청결이나 프론트 데스크 직원의 관점에서의 서비스에 대한 의견들도 확인할 수 있었습니다. 이에도 불구하고, 다양한 이용객들이 이 호텔을 추천하고, 재방문 의사가 높은 것으로 보입니다.']"
      ]
     },
     "execution_count": 23,
     "metadata": {},
     "output_type": "execute_result"
    }
   ],
   "source": [
    "summaries"
   ]
  }
 ],
 "metadata": {
  "kernelspec": {
   "display_name": ".yanolja",
   "language": "python",
   "name": "python3"
  },
  "language_info": {
   "codemirror_mode": {
    "name": "ipython",
    "version": 3
   },
   "file_extension": ".py",
   "mimetype": "text/x-python",
   "name": "python",
   "nbconvert_exporter": "python",
   "pygments_lexer": "ipython3",
   "version": "3.11.7"
  }
 },
 "nbformat": 4,
 "nbformat_minor": 2
}
